{
 "cells": [
  {
   "cell_type": "markdown",
   "metadata": {},
   "source": [
    "# Multivariate Linear Regression \n",
    "\n",
    "\n",
    "    1.Using sklearn\n",
    "    2.Using Matrices and applying formula of least square solution\n",
    "    \n",
    "\n"
   ]
  },
  {
   "cell_type": "markdown",
   "metadata": {},
   "source": [
    "## 1. Using scikit-learn\n",
    "\n",
    "Using functions of scikit-learn library, the data is used to train the regression and co-effecients are obtained and hence prediction for test case is obtained.\n",
    "\n",
    "The following functions are used here:\n",
    "* LinearRegression()\n",
    "* fit()\n",
    "* .coef_\n",
    "* .intercept_"
   ]
  },
  {
   "cell_type": "code",
   "execution_count": 2,
   "metadata": {},
   "outputs": [],
   "source": [
    "import pandas as pd\n",
    "import numpy as np\n",
    "from sklearn.linear_model import LinearRegression"
   ]
  },
  {
   "cell_type": "code",
   "execution_count": 3,
   "metadata": {},
   "outputs": [],
   "source": [
    "df = pd.read_csv(\"Admission_Predict.csv\")\n",
    "df = df.rename(columns = lambda x: x.strip())"
   ]
  },
  {
   "cell_type": "code",
   "execution_count": 5,
   "metadata": {},
   "outputs": [],
   "source": [
    "xdf = df[['GRE Score', 'TOEFL Score', 'University Rating', 'SOP', 'LOR', 'CGPA', 'Research']]\n",
    "ydf = df['Chance_of_admit']"
   ]
  },
  {
   "cell_type": "code",
   "execution_count": 6,
   "metadata": {},
   "outputs": [],
   "source": [
    "reg = LinearRegression().fit(xdf, ydf)"
   ]
  },
  {
   "cell_type": "code",
   "execution_count": 7,
   "metadata": {},
   "outputs": [
    {
     "data": {
      "text/plain": [
       "array([ 0.00173904,  0.00291492,  0.00578891, -0.00340745,  0.02243924,\n",
       "        0.11873552,  0.0245213 ])"
      ]
     },
     "execution_count": 7,
     "metadata": {},
     "output_type": "execute_result"
    }
   ],
   "source": [
    "reg.coef_"
   ]
  },
  {
   "cell_type": "code",
   "execution_count": 8,
   "metadata": {},
   "outputs": [
    {
     "data": {
      "text/plain": [
       "-1.2579141499830298"
      ]
     },
     "execution_count": 8,
     "metadata": {},
     "output_type": "execute_result"
    }
   ],
   "source": [
    "reg.intercept_"
   ]
  },
  {
   "cell_type": "code",
   "execution_count": 19,
   "metadata": {},
   "outputs": [
    {
     "data": {
      "text/plain": [
       "array([0.92961153])"
      ]
     },
     "execution_count": 19,
     "metadata": {},
     "output_type": "execute_result"
    }
   ],
   "source": [
    "reg.predict([[333,117,4,5,4,9.66,1]])"
   ]
  },
  {
   "cell_type": "markdown",
   "metadata": {},
   "source": [
    "## 2.  Least Square Solution\n",
    "    \n",
    "For linear system Ax = b of m equations in n unknowns that are inconsistent, one looks for vectors \n",
    "that come as close as possible to being solutions in the sense that they minimize b − Ax\n",
    "with respect to the \n",
    "**Euclidean inner product.**\n",
    "\n",
    "If A is an m × n matrix with linearly independent column vectors,\n",
    "then for every m × 1 matrix b, the linear system Ax = b has a unique least squares\n",
    "solution. This solution is given by \n",
    "$$x = inv(((\\mathbf{A}^\\intercal)A ))\\mathbf{A}^\\intercal\\ b\\   $$       \n",
    "\n",
    "\n"
   ]
  },
  {
   "cell_type": "markdown",
   "metadata": {},
   "source": [
    "c + $a_{0}$$x_{0}$ + $a_{0}$$x_{0}$ + $a_{0}$$x_{0}$ +.....+ $a_{0}$$x_{0}$ = b\n",
    "\n",
    "where :\n",
    "* c = constant\n",
    "* $x_{0}$ ,$x_{1}$ ,$x_{2}$,....,$x_{n}$ are the independent variables\n",
    "* b is the dependent variable\n",
    "\n",
    "To convert the equation to the form Ax = b:\n",
    "   1. Matrix A contains all the columns of dependent variable and an additional column of with value 1( to obtain the constant c), here columns are: 'const', 'GRE Score', 'TOEFL Score', 'University Rating', 'SOP', 'LOR', 'CGPA', 'Research'\n",
    "   2. Matrix b contains the values of dependent variables, here the column is : Chance_of_admit\n",
    "   3. Once the above matrices are obtained, we plug them in the formula of *least square solution* to get the matrix *x* and hence obtain the co-effecients.\n",
    "   4. Once *x* is obtained,  *b* is calculated for a test case by matrix multiplication of A and *x*\n",
    "\n",
    "NOTE -  We use the same test case i.e. the one used in method of sklearn and verify that same results are obtained in both approaches.\n",
    "   \n"
   ]
  },
  {
   "cell_type": "code",
   "execution_count": 9,
   "metadata": {},
   "outputs": [],
   "source": [
    "df['const'] = 1"
   ]
  },
  {
   "cell_type": "code",
   "execution_count": 10,
   "metadata": {},
   "outputs": [],
   "source": [
    "Mdf = df[['const', 'GRE Score', 'TOEFL Score', 'University Rating', 'SOP', 'LOR', 'CGPA', 'Research']]"
   ]
  },
  {
   "cell_type": "code",
   "execution_count": 11,
   "metadata": {},
   "outputs": [],
   "source": [
    "Mdf = Mdf.to_numpy()"
   ]
  },
  {
   "cell_type": "code",
   "execution_count": 22,
   "metadata": {},
   "outputs": [
    {
     "data": {
      "text/plain": [
       "array([[  1.  , 337.  , 118.  , ...,   4.5 ,   9.65,   1.  ],\n",
       "       [  1.  , 324.  , 107.  , ...,   4.5 ,   8.87,   1.  ],\n",
       "       [  1.  , 316.  , 104.  , ...,   3.5 ,   8.  ,   1.  ],\n",
       "       ...,\n",
       "       [  1.  , 325.  , 107.  , ...,   3.5 ,   9.11,   1.  ],\n",
       "       [  1.  , 330.  , 116.  , ...,   4.5 ,   9.45,   1.  ],\n",
       "       [  1.  , 312.  , 103.  , ...,   4.  ,   8.78,   0.  ]])"
      ]
     },
     "execution_count": 22,
     "metadata": {},
     "output_type": "execute_result"
    }
   ],
   "source": [
    "Mdf"
   ]
  },
  {
   "cell_type": "code",
   "execution_count": 13,
   "metadata": {},
   "outputs": [],
   "source": [
    "def get_v(M, y):\n",
    "    M_t = M.transpose()\n",
    "    I = np.linalg.inv(np.matmul(M_t , M))\n",
    "    P = np.matmul(I, M_t)\n",
    "    res = np.matmul(P, y)\n",
    "    return res"
   ]
  },
  {
   "cell_type": "code",
   "execution_count": 14,
   "metadata": {},
   "outputs": [],
   "source": [
    "v = get_v(Mdf, ydf)"
   ]
  },
  {
   "cell_type": "code",
   "execution_count": 15,
   "metadata": {},
   "outputs": [
    {
     "data": {
      "text/plain": [
       "array([-1.25791415,  0.00173904,  0.00291492,  0.00578891, -0.00340745,\n",
       "        0.02243924,  0.11873552,  0.0245213 ])"
      ]
     },
     "execution_count": 15,
     "metadata": {},
     "output_type": "execute_result"
    }
   ],
   "source": [
    "v"
   ]
  },
  {
   "cell_type": "code",
   "execution_count": 24,
   "metadata": {},
   "outputs": [
    {
     "data": {
      "text/plain": [
       "matrix([[0.92961153]])"
      ]
     },
     "execution_count": 24,
     "metadata": {},
     "output_type": "execute_result"
    }
   ],
   "source": [
    "test_c = [1,333,117,4,5,4,9.66,1]\n",
    "A = np.asmatrix(test_c)\n",
    "x = np.asmatrix(v)\n",
    "b = np.matmul(A,v )\n",
    "b"
   ]
  }
 ],
 "metadata": {
  "kernelspec": {
   "display_name": "Python 3",
   "language": "python",
   "name": "python3"
  },
  "language_info": {
   "codemirror_mode": {
    "name": "ipython",
    "version": 3
   },
   "file_extension": ".py",
   "mimetype": "text/x-python",
   "name": "python",
   "nbconvert_exporter": "python",
   "pygments_lexer": "ipython3",
   "version": "3.8.5"
  }
 },
 "nbformat": 4,
 "nbformat_minor": 2
}
